{
 "cells": [
  {
   "cell_type": "code",
   "execution_count": 1,
   "metadata": {},
   "outputs": [],
   "source": [
    "#Import dependencies\n",
    "from sklearn.ensemble import RandomForestClassifier\n",
    "import numpy as np\n",
    "import pandas as pd\n",
    "import json as json"
   ]
  },
  {
   "cell_type": "code",
   "execution_count": 2,
   "metadata": {},
   "outputs": [],
   "source": [
    "# this is what allows us to save the file and load it\n",
    "import pickle\n",
    "\n",
    "filename = 'rf.sav'\n",
    "loaded_model = pickle.load(open(filename, 'rb'))"
   ]
  },
  {
   "cell_type": "code",
   "execution_count": 3,
   "metadata": {},
   "outputs": [
    {
     "data": {
      "text/plain": [
       "['Age',\n",
       " 'M',\n",
       " 'F',\n",
       " 'Illinois',\n",
       " 'California',\n",
       " 'New York',\n",
       " 'Wisconsin',\n",
       " 'Alabama',\n",
       " 'Ohio',\n",
       " 'North Carolina',\n",
       " 'Florida',\n",
       " 'Kansas',\n",
       " 'Missouri',\n",
       " 'Oregon',\n",
       " 'Texas',\n",
       " 'Nevada',\n",
       " 'Louisiana',\n",
       " 'District of Columbia',\n",
       " 'Maryland',\n",
       " 'Oklahoma',\n",
       " 'Indiana',\n",
       " 'Colorado',\n",
       " 'Washington',\n",
       " 'Utah',\n",
       " 'Minnesota',\n",
       " 'Michigan',\n",
       " 'Georgia',\n",
       " 'Connecticut',\n",
       " 'Arizona',\n",
       " 'Mississippi',\n",
       " 'Virginia',\n",
       " 'Kentucky',\n",
       " 'Pennsylvania',\n",
       " 'Massachusetts',\n",
       " 'New Jersey',\n",
       " 'West Virginia',\n",
       " 'South Carolina',\n",
       " 'Idaho',\n",
       " 'New Mexico',\n",
       " 'Maine',\n",
       " 'Hawaii',\n",
       " 'Vermont',\n",
       " 'Arkansas',\n",
       " 'New Hampshire',\n",
       " 'Tennessee',\n",
       " 'Alaska',\n",
       " 'Nebraska',\n",
       " 'Delaware',\n",
       " 'Iowa',\n",
       " 'Rhode Island',\n",
       " 'South Dakota',\n",
       " 'Montana']"
      ]
     },
     "execution_count": 3,
     "metadata": {},
     "output_type": "execute_result"
    }
   ],
   "source": [
    "# this is for purposes of formatting the headers for the input\n",
    "x_header = ['Age','M','F','Illinois','California','New York','Wisconsin','Alabama','Ohio','North Carolina','Florida','Kansas','Missouri','Oregon','Texas','Nevada','Louisiana','District of Columbia','Maryland','Oklahoma','Indiana','Colorado','Washington','Utah','Minnesota','Michigan','Georgia','Connecticut','Arizona','Mississippi','Virginia','Kentucky','Pennsylvania','Massachusetts','New Jersey','West Virginia','South Carolina','Idaho','New Mexico','Maine','Hawaii','Vermont','Arkansas','New Hampshire','Tennessee','Alaska','Nebraska','Delaware','Iowa','Rhode Island','South Dakota','Montana']\n",
    "x_header"
   ]
  },
  {
   "cell_type": "code",
   "execution_count": 54,
   "metadata": {},
   "outputs": [],
   "source": [
    "stateList = ['Illinois','California','New York','Wisconsin','Alabama','Ohio','North Carolina','Florida','Kansas','Missouri','Oregon','Texas','Nevada','Louisiana','District of Columbia','Maryland','Oklahoma','Indiana','Colorado','Washington','Utah','Minnesota','Michigan','Georgia','Connecticut','Arizona','Mississippi','Virginia','Kentucky','Pennsylvania','Massachusetts','New Jersey','West Virginia','South Carolina','Idaho','New Mexico','Maine','Hawaii','Vermont','Arkansas','New Hampshire','Tennessee','Alaska','Nebraska','Delaware','Iowa','Rhode Island','South Dakota','Montana']\n",
    "genderList = ['M','F']\n",
    "newDict = dict()\n",
    "newDict['Age'] = [0]\n",
    "for gender in genderList:\n",
    "    newDict[gender] = [0]\n",
    "for state in stateList:\n",
    "    newDict[state] = [0]\n",
    "with open('user_input.json') as user_input:\n",
    "    user_input_json = json.load(user_input)\n",
    "newDict[\"Age\"] = [user_input_json[\"Age\"]]\n",
    "newDict[user_input_json['gender']] = [1]\n",
    "newDict[user_input_json['state']] = [1]\n",
    "newDict\n",
    "x_to_predict = pd.DataFrame(newDict)"
   ]
  },
  {
   "cell_type": "code",
   "execution_count": 55,
   "metadata": {},
   "outputs": [
    {
     "data": {
      "text/plain": [
       "'Denmark'"
      ]
     },
     "execution_count": 55,
     "metadata": {},
     "output_type": "execute_result"
    }
   ],
   "source": [
    "y_predict = loaded_model.predict(x_to_predict)\n",
    "y_predict[0]"
   ]
  },
  {
   "cell_type": "code",
   "execution_count": null,
   "metadata": {},
   "outputs": [],
   "source": []
  }
 ],
 "metadata": {
  "kernelspec": {
   "display_name": "Python 3",
   "language": "python",
   "name": "python3"
  },
  "language_info": {
   "codemirror_mode": {
    "name": "ipython",
    "version": 3
   },
   "file_extension": ".py",
   "mimetype": "text/x-python",
   "name": "python",
   "nbconvert_exporter": "python",
   "pygments_lexer": "ipython3",
   "version": "3.6.8"
  }
 },
 "nbformat": 4,
 "nbformat_minor": 2
}
