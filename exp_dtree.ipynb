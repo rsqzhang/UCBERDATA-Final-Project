{
 "cells": [
  {
   "cell_type": "code",
   "execution_count": 2,
   "metadata": {},
   "outputs": [],
   "source": [
    "import numpy as np\n",
    "import pandas as pd\n",
    "#from sklearn.cross_validation import train_test_split\n",
    "from sklearn.model_selection import train_test_split\n",
    "from sklearn.tree import DecisionTreeClassifier\n",
    "from sklearn.ensemble import RandomForestClassifier\n",
    "from sklearn import metrics\n",
    "from sklearn import preprocessing"
   ]
  },
  {
   "cell_type": "code",
   "execution_count": 3,
   "metadata": {},
   "outputs": [],
   "source": [
    "#encode data\n",
    "data = pd.read_csv('raw_datawithstate_mock_1.csv')\n",
    "#print(data)\n",
    "for column in ['gender', 'location', 'age']:\n",
    "    if data[column].dtype == type(object):\n",
    "        le = preprocessing.LabelEncoder()\n",
    "        data[column] = le.fit_transform(data[column])"
   ]
  },
  {
   "cell_type": "code",
   "execution_count": 4,
   "metadata": {},
   "outputs": [],
   "source": [
    "#select features to clasify data\n",
    "feature_cols = ['gender', 'location', 'age']\n",
    "X = data[feature_cols] # Features\n",
    "y = data.Destination # Target variable"
   ]
  },
  {
   "cell_type": "code",
   "execution_count": 5,
   "metadata": {},
   "outputs": [],
   "source": [
    "#split data\n",
    "X_train, X_test, y_train, y_test = train_test_split(X, y, test_size=0.3, random_state=1)"
   ]
  },
  {
   "cell_type": "code",
   "execution_count": 6,
   "metadata": {},
   "outputs": [],
   "source": [
    "#clasify data using entropy as the criteria for information gain\n",
    "clf = DecisionTreeClassifier(criterion=\"entropy\", max_depth=3)"
   ]
  },
  {
   "cell_type": "code",
   "execution_count": 7,
   "metadata": {},
   "outputs": [],
   "source": [
    "#this is the model for the clasification gain\n",
    "clf = clf.fit(X_train,y_train)"
   ]
  },
  {
   "cell_type": "code",
   "execution_count": 8,
   "metadata": {},
   "outputs": [],
   "source": [
    "#now we fit the model with the test data\n",
    "y_pred = clf.predict(X_test)"
   ]
  },
  {
   "cell_type": "code",
   "execution_count": 9,
   "metadata": {},
   "outputs": [
    {
     "name": "stdout",
     "output_type": "stream",
     "text": [
      "['Spain' 'Spain' 'Spain' 'Spain' 'Spain' 'Spain' 'Spain' 'Spain' 'Spain'\n",
      " 'Spain' 'Spain' 'Spain' 'Spain' 'Spain' 'Spain' 'Spain' 'Spain' 'Spain'\n",
      " 'Spain' 'Spain' 'Spain' 'Spain' 'Spain' 'Spain' 'Spain' 'Germany'\n",
      " 'Germany' 'Spain' 'Spain' 'Spain' 'Spain' 'Spain' 'Spain' 'Spain'\n",
      " 'Germany' 'Spain' 'Germany' 'Spain' 'Germany' 'Spain' 'Spain' 'Spain'\n",
      " 'Spain' 'Spain' 'Greece' 'Spain' 'Spain' 'Spain' 'Germany' 'Spain'\n",
      " 'Spain' 'Germany' 'Italy' 'Spain' 'Italy' 'Germany' 'Spain' 'Germany'\n",
      " 'Spain' 'Germany' 'Spain' 'Spain' 'Spain' 'Spain' 'Spain' 'Greece'\n",
      " 'Spain' 'Germany' 'Spain' 'Spain' 'Spain' 'Spain' 'Spain' 'Spain' 'Spain'\n",
      " 'Italy' 'Germany' 'Germany' 'Spain' 'Spain' 'Spain' 'Spain' 'Spain'\n",
      " 'Spain' 'Spain' 'Spain' 'Spain' 'Germany' 'Spain' 'Spain' 'Germany'\n",
      " 'Spain' 'Spain' 'Italy' 'Spain' 'Spain' 'Spain' 'Spain' 'Spain' 'Spain'\n",
      " 'Spain' 'Spain' 'Germany' 'Spain' 'Spain' 'Spain' 'France' 'Spain'\n",
      " 'France' 'Germany' 'France' 'Spain' 'France' 'Spain' 'Spain' 'Spain'\n",
      " 'Spain' 'Spain' 'Spain' 'Spain' 'Spain' 'Spain' 'Spain' 'Germany' 'Italy'\n",
      " 'Spain' 'Spain' 'France' 'Spain' 'Spain' 'France' 'Germany' 'Spain'\n",
      " 'Spain' 'Spain' 'Spain' 'Germany' 'Germany' 'Greece' 'Spain' 'Spain'\n",
      " 'Spain' 'Spain' 'Spain' 'Spain' 'Spain' 'France' 'Spain' 'Spain' 'Spain'\n",
      " 'Spain' 'Spain' 'Germany' 'Spain' 'Spain' 'Greece' 'Spain' 'Spain'\n",
      " 'Spain' 'Spain' 'Spain' 'Spain' 'Spain' 'Spain' 'Spain' 'Italy' 'Spain'\n",
      " 'Spain' 'Germany' 'Spain' 'Spain' 'Spain' 'Greece' 'Spain' 'Italy'\n",
      " 'Germany' 'Germany' 'Italy' 'Spain' 'Germany' 'Germany' 'Spain' 'Greece'\n",
      " 'Spain' 'Spain' 'Spain' 'Spain' 'Spain' 'Spain' 'Spain' 'Germany' 'Spain'\n",
      " 'Spain' 'Spain' 'Spain' 'Spain' 'France' 'Germany' 'France' 'Germany'\n",
      " 'France' 'Spain' 'France' 'Spain' 'Germany' 'Spain' 'Spain' 'Spain'\n",
      " 'Spain' 'Spain' 'Spain' 'Spain' 'Spain' 'Spain' 'Spain' 'Spain' 'Spain'\n",
      " 'Greece' 'Spain' 'Germany' 'France' 'Spain' 'Spain' 'Spain' 'Spain'\n",
      " 'Spain' 'Spain' 'Spain' 'Spain' 'Spain' 'Germany' 'Spain' 'Spain' 'Spain'\n",
      " 'Spain' 'Italy' 'Spain' 'Germany' 'Spain' 'Spain' 'Spain' 'Spain' 'Spain'\n",
      " 'Italy' 'Spain' 'Spain' 'Germany' 'Spain' 'France' 'Germany' 'Spain'\n",
      " 'Germany' 'Spain' 'Spain' 'Spain' 'Spain' 'Germany' 'Spain' 'Germany'\n",
      " 'France' 'Spain' 'Germany' 'Spain' 'Spain' 'Spain' 'Spain' 'Spain'\n",
      " 'Spain' 'Spain' 'Greece' 'Spain' 'Germany' 'Spain' 'Spain' 'Spain'\n",
      " 'Spain' 'Spain' 'Spain' 'Greece' 'Spain' 'Spain' 'Germany' 'Germany'\n",
      " 'Germany' 'Germany' 'Spain' 'Spain' 'Spain' 'Spain' 'Spain' 'Italy'\n",
      " 'Spain' 'Italy' 'Spain' 'Spain' 'Spain' 'Spain' 'Spain' 'Spain' 'Germany'\n",
      " 'Spain' 'Spain' 'France' 'Spain' 'Spain' 'Germany' 'Spain' 'Spain'\n",
      " 'Spain' 'Spain' 'Greece' 'Spain' 'France' 'Spain' 'Italy' 'Germany'\n",
      " 'Spain' 'Spain' 'Germany' 'Spain' 'Italy' 'Spain' 'Germany' 'Spain'\n",
      " 'Spain' 'Spain' 'Spain' 'Spain' 'Spain' 'Germany' 'Germany' 'Spain'\n",
      " 'Spain' 'Greece' 'Germany' 'Spain' 'Germany' 'Spain' 'Spain' 'Spain'\n",
      " 'Spain' 'Germany' 'Spain' 'Spain' 'Spain' 'Spain' 'France' 'Spain'\n",
      " 'Spain' 'Spain' 'Spain' 'Spain' 'Spain' 'Spain' 'Germany' 'Germany'\n",
      " 'Spain' 'Germany' 'Spain' 'Spain' 'France' 'Spain' 'Spain' 'Spain'\n",
      " 'Spain' 'Spain' 'Italy' 'Germany' 'Greece' 'Germany' 'Spain' 'Spain'\n",
      " 'Spain' 'Spain' 'Spain' 'Spain' 'France' 'Spain' 'Spain' 'Spain' 'Spain'\n",
      " 'Spain' 'France' 'Spain' 'Germany' 'Germany' 'Spain' 'Germany' 'Spain'\n",
      " 'Greece' 'Spain' 'Spain' 'Greece' 'Germany' 'Germany' 'Spain' 'Spain'\n",
      " 'Germany' 'Spain' 'Spain' 'Spain' 'Greece' 'Spain' 'Spain' 'Spain'\n",
      " 'Spain' 'Spain' 'France' 'Germany' 'Spain' 'Spain' 'Spain' 'Spain'\n",
      " 'Italy' 'Spain' 'Germany' 'France' 'Spain' 'Spain' 'Germany' 'Germany'\n",
      " 'Spain' 'Spain' 'Germany' 'France' 'Spain' 'Germany' 'Germany' 'Spain'\n",
      " 'Spain' 'Germany' 'Spain' 'Spain' 'Spain' 'Spain' 'Greece' 'Germany'\n",
      " 'Germany' 'Spain' 'Spain' 'France' 'Spain' 'Spain' 'Spain' 'Germany'\n",
      " 'Greece' 'Germany' 'Spain' 'Spain' 'Spain' 'Spain' 'Spain' 'Spain'\n",
      " 'France' 'Spain' 'Spain' 'Spain' 'Spain' 'Spain' 'Spain' 'Spain'\n",
      " 'Germany' 'Spain' 'Spain' 'Spain' 'Spain' 'Spain' 'Germany' 'Spain'\n",
      " 'Germany' 'France' 'Spain' 'Germany' 'Spain' 'Spain' 'Spain' 'Spain'\n",
      " 'France' 'Spain' 'Spain' 'Germany' 'Germany' 'Spain' 'Italy' 'Spain'\n",
      " 'Spain' 'Greece' 'Spain' 'Spain' 'Greece' 'Spain' 'Spain' 'Spain' 'Italy'\n",
      " 'Spain' 'Spain' 'Spain' 'Greece' 'Germany' 'Spain' 'Spain' 'Italy'\n",
      " 'Spain' 'Spain' 'Germany' 'Germany' 'France']\n"
     ]
    }
   ],
   "source": [
    "print(y_pred)"
   ]
  },
  {
   "cell_type": "code",
   "execution_count": 10,
   "metadata": {},
   "outputs": [
    {
     "name": "stdout",
     "output_type": "stream",
     "text": [
      "Accuracy: 0.1242603550295858\n"
     ]
    }
   ],
   "source": [
    "print(\"Accuracy:\",metrics.accuracy_score(y_test, y_pred))"
   ]
  },
  {
   "cell_type": "code",
   "execution_count": null,
   "metadata": {
    "collapsed": true
   },
   "outputs": [],
   "source": [
    "# so far we only have one result. How do I get multilable clasification?"
   ]
  }
 ],
 "metadata": {
  "anaconda-cloud": {},
  "kernelspec": {
   "display_name": "Python 3",
   "language": "python",
   "name": "python3"
  },
  "language_info": {
   "codemirror_mode": {
    "name": "ipython",
    "version": 3
   },
   "file_extension": ".py",
   "mimetype": "text/x-python",
   "name": "python",
   "nbconvert_exporter": "python",
   "pygments_lexer": "ipython3",
   "version": "3.6.6"
  }
 },
 "nbformat": 4,
 "nbformat_minor": 1
}
