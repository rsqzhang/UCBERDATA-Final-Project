{
 "cells": [
  {
   "cell_type": "code",
   "execution_count": 2,
   "metadata": {},
   "outputs": [],
   "source": [
    "from bs4 import BeautifulSoup\n",
    "import requests\n",
    "import os\n",
    "import pandas as pd\n",
    "import requests\n",
    "import json"
   ]
  },
  {
   "cell_type": "code",
   "execution_count": 3,
   "metadata": {},
   "outputs": [],
   "source": [
    "url= \"https://mtp.travel/api/rankings/users?checklistType=locations&gender=&country=United+States&country_id=977&vfIcg=&location=All+States%2FProvinces&location_id=all&ageGroup=&facebookConnected=&country_has_children=true&page=\"\n"
   ]
  },
  {
   "cell_type": "code",
   "execution_count": 16,
   "metadata": {},
   "outputs": [
    {
     "data": {
      "text/html": [
       "<div>\n",
       "<style scoped>\n",
       "    .dataframe tbody tr th:only-of-type {\n",
       "        vertical-align: middle;\n",
       "    }\n",
       "\n",
       "    .dataframe tbody tr th {\n",
       "        vertical-align: top;\n",
       "    }\n",
       "\n",
       "    .dataframe thead th {\n",
       "        text-align: right;\n",
       "    }\n",
       "</style>\n",
       "<table border=\"1\" class=\"dataframe\">\n",
       "  <thead>\n",
       "    <tr style=\"text-align: right;\">\n",
       "      <th></th>\n",
       "      <th>id</th>\n",
       "      <th>full_name</th>\n",
       "      <th>birthday</th>\n",
       "      <th>gender</th>\n",
       "      <th>location</th>\n",
       "    </tr>\n",
       "  </thead>\n",
       "  <tbody>\n",
       "    <tr>\n",
       "      <th>0</th>\n",
       "      <td>3218</td>\n",
       "      <td>Robert A. Bonifas</td>\n",
       "      <td>1937-06-04</td>\n",
       "      <td>M</td>\n",
       "      <td>{'id': 98, 'Location': 'Illinois', 'RegionIDne...</td>\n",
       "    </tr>\n",
       "    <tr>\n",
       "      <th>1</th>\n",
       "      <td>3533</td>\n",
       "      <td>Donald M Parrish Jr</td>\n",
       "      <td>1944-10-27</td>\n",
       "      <td>M</td>\n",
       "      <td>{'id': 98, 'Location': 'Illinois', 'RegionIDne...</td>\n",
       "    </tr>\n",
       "    <tr>\n",
       "      <th>2</th>\n",
       "      <td>1</td>\n",
       "      <td>Charles A Veley</td>\n",
       "      <td>1965-06-25</td>\n",
       "      <td>M</td>\n",
       "      <td>{'id': 89, 'Location': 'California', 'RegionID...</td>\n",
       "    </tr>\n",
       "    <tr>\n",
       "      <th>3</th>\n",
       "      <td>53</td>\n",
       "      <td>Bill Altaffer</td>\n",
       "      <td>1943-07-17</td>\n",
       "      <td>M</td>\n",
       "      <td>{'id': 89, 'Location': 'California', 'RegionID...</td>\n",
       "    </tr>\n",
       "    <tr>\n",
       "      <th>4</th>\n",
       "      <td>1125</td>\n",
       "      <td>Jagannathan Srinivasaraghavan</td>\n",
       "      <td>1950-05-13</td>\n",
       "      <td>M</td>\n",
       "      <td>{'id': 98, 'Location': 'Illinois', 'RegionIDne...</td>\n",
       "    </tr>\n",
       "  </tbody>\n",
       "</table>\n",
       "</div>"
      ],
      "text/plain": [
       "     id                      full_name    birthday gender  \\\n",
       "0  3218              Robert A. Bonifas  1937-06-04      M   \n",
       "1  3533            Donald M Parrish Jr  1944-10-27      M   \n",
       "2     1                Charles A Veley  1965-06-25      M   \n",
       "3    53                  Bill Altaffer  1943-07-17      M   \n",
       "4  1125  Jagannathan Srinivasaraghavan  1950-05-13      M   \n",
       "\n",
       "                                            location  \n",
       "0  {'id': 98, 'Location': 'Illinois', 'RegionIDne...  \n",
       "1  {'id': 98, 'Location': 'Illinois', 'RegionIDne...  \n",
       "2  {'id': 89, 'Location': 'California', 'RegionID...  \n",
       "3  {'id': 89, 'Location': 'California', 'RegionID...  \n",
       "4  {'id': 98, 'Location': 'Illinois', 'RegionIDne...  "
      ]
     },
     "execution_count": 16,
     "metadata": {},
     "output_type": "execute_result"
    }
   ],
   "source": [
    "MTP_df_final = pd.DataFrame()\n",
    "for i in range(1,35):\n",
    "    query_url = url+str(i)\n",
    "#     print(query_url)\n",
    "    MTP_response = requests.get(query_url)\n",
    "    MTP_json = MTP_response.json()\n",
    "    MTP_data =MTP_json[\"users\"][\"data\"]\n",
    "    # location_data = MTP_json[\"users\"][\"data\"][\"location\"]\n",
    "    # MTP_data\n",
    "    MTP_df = pd.DataFrame(MTP_data)\n",
    "    # MTP_df_final = MTP_df[\"first_name\",\"last_name\",\"birthday\",\"location\"]\n",
    "    MTP_df_final = MTP_df_final.append(MTP_df.filter([\"id\",\"full_name\", \"birthday\",\"gender\",\"location\"], axis=1))\n",
    "    \n",
    "MTP_df_final.head()\n",
    "\n"
   ]
  },
  {
   "cell_type": "code",
   "execution_count": 17,
   "metadata": {},
   "outputs": [],
   "source": [
    "MTP_df_final.to_csv(\"raw_data.csv\")"
   ]
  },
  {
   "cell_type": "code",
   "execution_count": null,
   "metadata": {},
   "outputs": [],
   "source": []
  }
 ],
 "metadata": {
  "kernelspec": {
   "display_name": "Python 3",
   "language": "python",
   "name": "python3"
  },
  "language_info": {
   "codemirror_mode": {
    "name": "ipython",
    "version": 3
   },
   "file_extension": ".py",
   "mimetype": "text/x-python",
   "name": "python",
   "nbconvert_exporter": "python",
   "pygments_lexer": "ipython3",
   "version": "3.6.8"
  }
 },
 "nbformat": 4,
 "nbformat_minor": 2
}
